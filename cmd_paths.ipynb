{
  "nbformat": 4,
  "nbformat_minor": 0,
  "metadata": {
    "colab": {
      "name": "Untitled0.ipynb",
      "private_outputs": true,
      "provenance": [],
      "authorship_tag": "ABX9TyMnM7bJ1PTXZLTPjGehgM8J",
      "include_colab_link": true
    },
    "kernelspec": {
      "name": "python3",
      "display_name": "Python 3"
    },
    "language_info": {
      "name": "python"
    }
  },
  "cells": [
    {
      "cell_type": "markdown",
      "metadata": {
        "id": "view-in-github",
        "colab_type": "text"
      },
      "source": [
        "<a href=\"https://colab.research.google.com/github/mlotfic/statistics/blob/main/cmd_paths.ipynb\" target=\"_parent\"><img src=\"https://colab.research.google.com/assets/colab-badge.svg\" alt=\"Open In Colab\"/></a>"
      ]
    },
    {
      "cell_type": "code",
      "metadata": {
        "id": "-FyBYoya9UTS"
      },
      "source": [
        "!ls -al"
      ],
      "execution_count": null,
      "outputs": []
    },
    {
      "cell_type": "markdown",
      "metadata": {
        "id": "UBGME61LuCYJ"
      },
      "source": [
        "# Directory and file operations in Google Colab:\n",
        "Since Colab lets you do everything which you can in a locally hosted Jupyter notebook, you can also use shell commands like \n",
        "- ls, \n",
        "- dir, \n",
        "- pwd, \n",
        "- cd, \n",
        "- cat, \n",
        "- echo, et cetera \n",
        "\n",
        "using line-magic (%) or bash (!). \n",
        "\n",
        "To browse the directory structure, you can use the file-explorer pane on the left.\n"
      ]
    }
  ]
}